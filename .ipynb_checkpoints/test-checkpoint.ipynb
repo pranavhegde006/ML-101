{
 "cells": [
  {
   "cell_type": "code",
   "execution_count": 141,
   "id": "97010c66",
   "metadata": {},
   "outputs": [],
   "source": [
    "import tensorflow as tf"
   ]
  },
  {
   "cell_type": "code",
   "execution_count": 142,
   "id": "55feb142",
   "metadata": {},
   "outputs": [],
   "source": [
    "model = tf.keras.models.load_model('digit_recognizer.h5')"
   ]
  },
  {
   "cell_type": "code",
   "execution_count": 143,
   "id": "ef6ed4fd",
   "metadata": {},
   "outputs": [],
   "source": [
    "image = 'draw.jpg'"
   ]
  },
  {
   "cell_type": "code",
   "execution_count": 144,
   "id": "a517117e",
   "metadata": {},
   "outputs": [],
   "source": [
    "import numpy"
   ]
  },
  {
   "cell_type": "code",
   "execution_count": 145,
   "id": "5d55424a",
   "metadata": {},
   "outputs": [],
   "source": [
    "import matplotlib.pyplot as plt"
   ]
  },
  {
   "cell_type": "code",
   "execution_count": 146,
   "id": "854dc009",
   "metadata": {},
   "outputs": [],
   "source": [
    "# Import the necessary libraries\n",
    "from PIL import Image\n",
    "from numpy import asarray\n",
    "import numpy as np"
   ]
  },
  {
   "cell_type": "code",
   "execution_count": 147,
   "id": "728fcab4",
   "metadata": {},
   "outputs": [
    {
     "data": {
      "image/png": "[encoded data removed]",
      "text/plain": [
       "<PIL.Image.Image image mode=1 size=28x28 at 0x1E2BFD62160>"
      ]
     },
     "execution_count": 147,
     "metadata": {},
     "output_type": "execute_result"
    }
   ],
   "source": [
    "col = Image.open(image)\n",
    "gray = col.convert('L')\n",
    "bw = gray.point(lambda x: 0 if x<254 else 255, '1')\n",
    "bw"
   ]
  },
  {
   "cell_type": "code",
   "execution_count": 148,
   "id": "92a2932c",
   "metadata": {},
   "outputs": [
    {
     "data": {
      "image/png": "[encoded data removed]",
      "text/plain": [
       "<Figure size 432x288 with 1 Axes>"
      ]
     },
     "metadata": {
      "needs_background": "light"
     },
     "output_type": "display_data"
    }
   ],
   "source": [
    "# img = Image.open(bw)\n",
    "numpydata = asarray(bw)\n",
    "\n",
    "# print(np.shape(numpydata))\n",
    "plt.imshow(bw)\n",
    "plt.show()"
   ]
  },
  {
   "cell_type": "code",
   "execution_count": 149,
   "id": "9e16cfda",
   "metadata": {},
   "outputs": [],
   "source": [
    "a = asarray(bw)"
   ]
  },
  {
   "cell_type": "code",
   "execution_count": 150,
   "id": "3cc3b96f",
   "metadata": {},
   "outputs": [],
   "source": [
    "a = np.array([a])"
   ]
  },
  {
   "cell_type": "code",
   "execution_count": 151,
   "id": "f2352331",
   "metadata": {},
   "outputs": [
    {
     "data": {
      "text/plain": [
       "(1, 28, 28)"
      ]
     },
     "execution_count": 151,
     "metadata": {},
     "output_type": "execute_result"
    }
   ],
   "source": [
    "a.shape"
   ]
  },
  {
   "cell_type": "code",
   "execution_count": 152,
   "id": "55c1372f",
   "metadata": {},
   "outputs": [
    {
     "data": {
      "text/plain": [
       "array([[0., 0., 0., 0., 0., 0., 0., 0., 1., 0.]], dtype=float32)"
      ]
     },
     "execution_count": 152,
     "metadata": {},
     "output_type": "execute_result"
    }
   ],
   "source": [
    "number = model.predict(a)\n",
    "number"
   ]
  },
  {
   "cell_type": "code",
   "execution_count": 153,
   "id": "c5ff822e",
   "metadata": {},
   "outputs": [
    {
     "data": {
      "text/plain": [
       "8"
      ]
     },
     "execution_count": 153,
     "metadata": {},
     "output_type": "execute_result"
    }
   ],
   "source": [
    "np.argmax(number)"
   ]
  },
  {
   "cell_type": "code",
   "execution_count": null,
   "id": "1cdc76fc",
   "metadata": {},
   "outputs": [],
   "source": []
  }
 ],
 "metadata": {
  "kernelspec": {
   "display_name": "Python 3 (ipykernel)",
   "language": "python",
   "name": "python3"
  },
  "language_info": {
   "codemirror_mode": {
    "name": "ipython",
    "version": 3
   },
   "file_extension": ".py",
   "mimetype": "text/x-python",
   "name": "python",
   "nbconvert_exporter": "python",
   "pygments_lexer": "ipython3",
   "version": "3.9.7"
  }
 },
 "nbformat": 4,
 "nbformat_minor": 5
}
